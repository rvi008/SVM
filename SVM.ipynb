{
 "cells": [
  {
   "cell_type": "markdown",
   "metadata": {},
   "source": [
    "# TP SVM Télécom ParisTech"
   ]
  },
  {
   "cell_type": "code",
   "execution_count": 108,
   "metadata": {
    "collapsed": false
   },
   "outputs": [],
   "source": [
    "from sklearn.svm import SVC\n",
    "from sklearn import datasets\n",
    "from sklearn.cross_validation import train_test_split\n",
    "from sklearn.cross_validation import cross_val_score\n",
    "import numpy as np\n",
    "import matplotlib.pyplot as plt"
   ]
  },
  {
   "cell_type": "markdown",
   "metadata": {},
   "source": [
    "## Question 1"
   ]
  },
  {
   "cell_type": "code",
   "execution_count": 90,
   "metadata": {
    "collapsed": false
   },
   "outputs": [
    {
     "name": "stdout",
     "output_type": "stream",
     "text": [
      "(50, 2) (50,)\n"
     ]
    }
   ],
   "source": [
    "iris = datasets.load_iris()\n",
    "X = iris.data\n",
    "y = iris.target\n",
    "X = X[y != 0, :2] # Train dataset, we use only 2 features for now\n",
    "y = y[y != 0] # Train prediction variable\n",
    "X_train, X_test, y_train, y_test = train_test_split(X, y, test_size=0.5, random_state=0)\n",
    "print(X_train.shape,y_train.shape)"
   ]
  },
  {
   "cell_type": "code",
   "execution_count": 91,
   "metadata": {
    "collapsed": false,
    "scrolled": true
   },
   "outputs": [
    {
     "name": "stdout",
     "output_type": "stream",
     "text": [
      "(50, 2) (50,)\n",
      "noyau linéaire, précision : 0.66\n",
      "Accuracy: 0.72 (+/- 0.16)\n"
     ]
    }
   ],
   "source": [
    "clf = SVC(kernel = 'linear')\n",
    "print(X_train.shape, y_train.shape)\n",
    "clf.fit(X_train, y_train)\n",
    "print(\"noyau linéaire, précision :\", clf.score(X_test, y_test))\n",
    "scores = cross_val_score(clf,X, y, cv = 5)\n",
    "print(\"Accuracy: %0.2f (+/- %0.2f)\" % (scores.mean(), scores.std() * 2))"
   ]
  },
  {
   "cell_type": "markdown",
   "metadata": {},
   "source": [
    "## Question 2"
   ]
  },
  {
   "cell_type": "code",
   "execution_count": 97,
   "metadata": {
    "collapsed": false
   },
   "outputs": [
    {
     "name": "stdout",
     "output_type": "stream",
     "text": [
      "noyau polynomial, précision : 0.7\n",
      "Accuracy: 0.72 (+/- 0.16)\n"
     ]
    }
   ],
   "source": [
    "clf = SVC(kernel=\"poly\", degree=3)\n",
    "clf.fit(X_train, y_train)\n",
    "print(\"noyau polynomial, précision :\", clf.score(X_test, y_test))\n",
    "scores = cross_val_score(clf,X, y, cv = 5)\n",
    "print(\"Accuracy: %0.2f (+/- %0.2f)\" % (scores.mean(), scores.std() * 2))"
   ]
  },
  {
   "cell_type": "markdown",
   "metadata": {},
   "source": [
    "## Question 3"
   ]
  },
  {
   "cell_type": "markdown",
   "metadata": {},
   "source": [
    "La deuxième contrainte de l'équation (2) peut se réécrire\n",
    "$$ \\xi_i \\geq 1-y_i(\\langle w,\\Phi(x_i) \\rangle + \\omega_0) \\;\\; \\forall i$$\n",
    "\n",
    "Par ailleurs la plus petite valeure de $\\xi_i$ est $0$ (première contrainte de (2)), ce qui correspond au fait que le point $i$ soit du bon côté de sa marge. On peut alors écrire:\n",
    "\n",
    "$$  \\xi_i \\geq \\left[1-y_i(\\langle w,\\Phi(x_i) \\rangle + \\omega_0)\\right]_+ \\geq 0 \\;\\; \\forall i$$\n",
    "\n",
    "Cette nouvelle contrainte inclus les deux contraintes initiales de l'équation (2).\n",
    "\n",
    "$\\xi_i$ étant le coût d'une mauvaise classification, on peut remplacer $\\xi_i$ par $\\left[1-y_i(\\langle w,\\Phi(x_i) \\rangle + \\omega_0)\\right]_+$ dans l'expression à minimiser. Le coût d'une mauvaise classification est alors inférieur au coût $\\xi_i$, mais les contraintes qui apparaissaient dans l'expression initiale du problème primal disparaissent (elles sont inclues dans la fonction Hinge).  \n",
    "\n"
   ]
  },
  {
   "cell_type": "markdown",
   "metadata": {
    "collapsed": true
   },
   "source": [
    "## Question 4"
   ]
  },
  {
   "cell_type": "markdown",
   "metadata": {},
   "source": [
    "L'erreur de classification qui vaut 1 ou 0 est constituée de deux plateaux, il est donc compliqué de chercher à minimiser directement cette fonction puisque son gradient est nul partout et qu'elle possède une discontinuité. La fonction Hinge est bien un majorant de l'erreur de classification (voir figure ci-dessous). Et cette fonction est convexe, ce qui permet de la minimiser avec une des méthodes utilisant le gradient."
   ]
  },
  {
   "cell_type": "code",
   "execution_count": 110,
   "metadata": {
    "collapsed": false,
    "scrolled": true
   },
   "outputs": [
    {
     "data": {
      "image/png": "[encoded data removed]",
      "text/plain": [
       "<matplotlib.figure.Figure at 0x7f17d3afbfd0>"
      ]
     },
     "metadata": {},
     "output_type": "display_data"
    }
   ],
   "source": [
    "x = np.linspace(-5, 5, 100)\n",
    "x_m = np.linspace(-5, 0, 5)\n",
    "x_p = np.linspace(0, 5, 5)\n",
    "hinge = [max(0, 1-i) for i in x]\n",
    "plt.plot(x_m, np.ones(5), 'r', lw=2)\n",
    "plt.plot(x_p, np.zeros(5), 'r', lw=2, label='classif error')\n",
    "plt.plot(x, hinge, label='hinge loss')\n",
    "plt.show()"
   ]
  },
  {
   "cell_type": "code",
   "execution_count": null,
   "metadata": {
    "collapsed": true
   },
   "outputs": [],
   "source": []
  }
 ],
 "metadata": {
  "anaconda-cloud": {},
  "kernelspec": {
   "display_name": "Python [conda root]",
   "language": "python",
   "name": "conda-root-py"
  },
  "language_info": {
   "codemirror_mode": {
    "name": "ipython",
    "version": 3
   },
   "file_extension": ".py",
   "mimetype": "text/x-python",
   "name": "python",
   "nbconvert_exporter": "python",
   "pygments_lexer": "ipython3",
   "version": "3.5.2"
  }
 },
 "nbformat": 4,
 "nbformat_minor": 1
}
